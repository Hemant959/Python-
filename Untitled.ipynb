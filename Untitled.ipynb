{
 "cells": [
  {
   "cell_type": "code",
   "execution_count": 4,
   "id": "59c3288c",
   "metadata": {},
   "outputs": [
    {
     "name": "stdout",
     "output_type": "stream",
     "text": [
      "Hello world.\n"
     ]
    }
   ],
   "source": [
    "#Progrm no.1 Print Hello World\n",
    "h=\"Hello world.\"\n",
    "print(h)"
   ]
  },
  {
   "cell_type": "code",
   "execution_count": 3,
   "id": "9b017e3b",
   "metadata": {},
   "outputs": [
    {
     "name": "stdout",
     "output_type": "stream",
     "text": [
      "Enter first number: 20\n",
      "Enter second number: 23\n",
      "Addition of two number is: 43\n"
     ]
    }
   ],
   "source": [
    "#Program no.2 Add two number entered by user\n",
    "num1=int(input(\"Enter first number: \"))\n",
    "num2=int(input(\"Enter second number: \"))\n",
    "sum=num1+num2\n",
    "print(\"Addition of two number is:\",sum)"
   ]
  },
  {
   "cell_type": "code",
   "execution_count": 9,
   "id": "f10a85eb",
   "metadata": {},
   "outputs": [
    {
     "name": "stdout",
     "output_type": "stream",
     "text": [
      "Enter the number to get the squre root: 32\n",
      "The square root of 32.000 is 5.657\n"
     ]
    }
   ],
   "source": [
    "#Program no.3 python program to find square root.\n",
    "num=float(input(\"Enter the number to get the squre root: \"))\n",
    "num_sqrt=num**0.5\n",
    "print('The square root of %0.3f is %0.3f'%(num ,num_sqrt))"
   ]
  },
  {
   "cell_type": "code",
   "execution_count": 11,
   "id": "86418cb4",
   "metadata": {},
   "outputs": [
    {
     "name": "stdout",
     "output_type": "stream",
     "text": [
      "Enter the first number of area: 5\n",
      "Enter the second number of area: 6\n",
      "Enter the third number of area: 7\n",
      "The area of triangle is 14.70\n"
     ]
    }
   ],
   "source": [
    "#Program no.4 Calculate the area of Triangle\n",
    "a=int(input(\"Enter the first number of area: \"))\n",
    "b=int(input(\"Enter the second number of area: \"))\n",
    "c=int(input(\"Enter the third number of area: \"))\n",
    "s=(a+b+c)/2\n",
    "area=(s*(s-a)*(s-b)*(s-c))**0.5\n",
    "print('The area of triangle is %0.2f'%area)"
   ]
  },
  {
   "cell_type": "code",
   "execution_count": null,
   "id": "f3f3af69",
   "metadata": {},
   "outputs": [],
   "source": [
    "#program no.5"
   ]
  },
  {
   "cell_type": "code",
   "execution_count": null,
   "id": "127aa424",
   "metadata": {},
   "outputs": [],
   "source": [
    "#program no.6"
   ]
  }
 ],
 "metadata": {
  "kernelspec": {
   "display_name": "Python 3",
   "language": "python",
   "name": "python3"
  },
  "language_info": {
   "codemirror_mode": {
    "name": "ipython",
    "version": 3
   },
   "file_extension": ".py",
   "mimetype": "text/x-python",
   "name": "python",
   "nbconvert_exporter": "python",
   "pygments_lexer": "ipython3",
   "version": "3.8.8"
  }
 },
 "nbformat": 4,
 "nbformat_minor": 5
}
